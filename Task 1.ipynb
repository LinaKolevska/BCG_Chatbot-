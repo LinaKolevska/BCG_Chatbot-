{
 "cells": [
  {
   "cell_type": "markdown",
   "id": "ed3c7ab9",
   "metadata": {},
   "source": [
    "## Task 1 - Data extraction and initial analysis\n",
    "### Companies: Microsoft, Tesla, and Apple"
   ]
  },
  {
   "cell_type": "code",
   "execution_count": 1,
   "id": "d5a1cdb5",
   "metadata": {},
   "outputs": [
    {
     "name": "stdout",
     "output_type": "stream",
     "text": [
      "Full DataFrame with Calculations:\n",
      "     Company  Year  Total Revenue (in millions)  Net Income (in millions)  \\\n",
      "8      Apple  2021                       365817                     94680   \n",
      "7      Apple  2022                       394328                     99803   \n",
      "6      Apple  2023                       383285                     96995   \n",
      "2  Microsoft  2021                       168088                     61271   \n",
      "1  Microsoft  2022                       198270                     72738   \n",
      "0  Microsoft  2023                       211915                     72361   \n",
      "5      Tesla  2021                        53823                      5644   \n",
      "4      Tesla  2022                        81462                     12587   \n",
      "3      Tesla  2023                        96773                     14974   \n",
      "\n",
      "   Total Assets (in millions)  Total Liabilities (in millions)  \\\n",
      "8                      351002                           287912   \n",
      "7                      352755                           302083   \n",
      "6                      352583                           290437   \n",
      "2                      333779                           191791   \n",
      "1                      364840                           198298   \n",
      "0                      411976                           205753   \n",
      "5                       62131                            30548   \n",
      "4                       82338                            36440   \n",
      "3                      106618                            43009   \n",
      "\n",
      "   Cash Flow from Operating Activities (in millions)  Revenue Growth (%)  \\\n",
      "8                                             104038                 NaN   \n",
      "7                                             122151            7.793788   \n",
      "6                                             110543           -2.800461   \n",
      "2                                              76740                 NaN   \n",
      "1                                              89035           17.956071   \n",
      "0                                              87582            6.882030   \n",
      "5                                              11497                 NaN   \n",
      "4                                              14724           51.351653   \n",
      "3                                              13256           18.795267   \n",
      "\n",
      "   Net Income Growth (%)  Asset Growth (%)  Liability Growth (%)  \\\n",
      "8                    NaN               NaN                   NaN   \n",
      "7               5.410858          0.499427              4.921990   \n",
      "6              -2.813543         -0.048759             -3.855232   \n",
      "2                    NaN               NaN                   NaN   \n",
      "1              18.715216          9.305858              3.392756   \n",
      "0              -0.518299         12.919636              3.759493   \n",
      "5                    NaN               NaN                   NaN   \n",
      "4             123.015592         32.523217             19.287678   \n",
      "3              18.964010         29.488207             18.026894   \n",
      "\n",
      "   Debt-to-Asset Ratio  \n",
      "8             0.820257  \n",
      "7             0.856354  \n",
      "6             0.823741  \n",
      "2             0.574605  \n",
      "1             0.543520  \n",
      "0             0.499430  \n",
      "5             0.491671  \n",
      "4             0.442566  \n",
      "3             0.403393  \n"
     ]
    }
   ],
   "source": [
    "import pandas as pd\n",
    "\n",
    "df = pd.read_excel('Financial-Data.xlsx', engine='openpyxl')\n",
    "\n",
    "# Cleaning the dataset \n",
    "df = df.dropna(subset=['Company'])\n",
    "\n",
    "numeric_columns = ['Total Revenue (in millions)', 'Net Income (in millions)', \n",
    "                   'Total Assets (in millions)', 'Total Liabilities (in millions)', \n",
    "                   'Cash Flow from Operating Activities (in millions)']\n",
    "df[numeric_columns] = df[numeric_columns].apply(pd.to_numeric, errors='coerce')\n",
    "\n",
    "df = df.sort_values(by=['Company', 'Year'])\n",
    "\n",
    "# Converting the numbers into percentages\n",
    "df['Revenue Growth (%)'] = df.groupby('Company')['Total Revenue (in millions)'].pct_change() * 100\n",
    "df['Net Income Growth (%)'] = df.groupby('Company')['Net Income (in millions)'].pct_change() * 100\n",
    "df['Asset Growth (%)'] = df.groupby('Company')['Total Assets (in millions)'].pct_change() * 100\n",
    "df['Liability Growth (%)'] = df.groupby('Company')['Total Liabilities (in millions)'].pct_change() * 100\n",
    "df['Debt-to-Asset Ratio'] = df['Total Liabilities (in millions)'] / df['Total Assets (in millions)']\n",
    "output_path = '/Users/kolev/Desktop/Updated-Financial-Data.xlsx'\n",
    "df.to_excel(output_path, index=False)\n",
    "\n",
    "print(\"Full DataFrame with Calculations:\")\n",
    "print(df)\n",
    "\n"
   ]
  },
  {
   "cell_type": "markdown",
   "id": "bf8dc53e",
   "metadata": {},
   "source": [
    "The NaN values for the first year of each company occur because there is no prior year for comparison."
   ]
  },
  {
   "cell_type": "markdown",
   "id": "da60db44",
   "metadata": {},
   "source": [
    "## Top and Bottom Revenue Growth Years"
   ]
  },
  {
   "cell_type": "code",
   "execution_count": 2,
   "id": "45e105a8",
   "metadata": {},
   "outputs": [
    {
     "name": "stdout",
     "output_type": "stream",
     "text": [
      "Top Revenue Growth Years:\n",
      "     Company  Year  Revenue Growth (%)\n",
      "7      Apple  2022            7.793788\n",
      "1  Microsoft  2022           17.956071\n",
      "4      Tesla  2022           51.351653\n",
      "\n",
      "Bottom Revenue Growth Years:\n",
      "     Company  Year  Revenue Growth (%)\n",
      "6      Apple  2023           -2.800461\n",
      "0  Microsoft  2023            6.882030\n",
      "3      Tesla  2023           18.795267\n"
     ]
    }
   ],
   "source": [
    "\n",
    "top_revenue_years = df.loc[df.groupby('Company')['Revenue Growth (%)'].idxmax()]\n",
    "bottom_revenue_years = df.loc[df.groupby('Company')['Revenue Growth (%)'].idxmin()]\n",
    "print(\"Top Revenue Growth Years:\")\n",
    "print(top_revenue_years[['Company', 'Year', 'Revenue Growth (%)']])\n",
    "print(\"\\nBottom Revenue Growth Years:\")\n",
    "print(bottom_revenue_years[['Company', 'Year', 'Revenue Growth (%)']])\n"
   ]
  },
  {
   "cell_type": "markdown",
   "id": "bdcc3fed",
   "metadata": {},
   "source": [
    "Overall 2022 is the year where all companies expirienced the most growth."
   ]
  },
  {
   "cell_type": "markdown",
   "id": "92fa3b61",
   "metadata": {},
   "source": [
    "## Financial Consistency"
   ]
  },
  {
   "cell_type": "code",
   "execution_count": 3,
   "id": "e6990cad",
   "metadata": {},
   "outputs": [
    {
     "name": "stdout",
     "output_type": "stream",
     "text": [
      "Financial Consistency (Lower values indicate higher consistency):\n",
      "           Total Revenue (in millions)  Net Income (in millions)  \\\n",
      "Company                                                            \n",
      "Apple                     14375.650675               2565.450513   \n",
      "Microsoft                 22427.457420               6514.372802   \n",
      "Tesla                     21767.879785               4846.853240   \n",
      "\n",
      "           Cash Flow from Operating Activities (in millions)  \n",
      "Company                                                       \n",
      "Apple                                            9175.524127  \n",
      "Microsoft                                        6718.472024  \n",
      "Tesla                                            1615.685304  \n"
     ]
    }
   ],
   "source": [
    "\n",
    "consistency = df.groupby('Company')[['Total Revenue (in millions)', \n",
    "                                     'Net Income (in millions)', \n",
    "                                     'Cash Flow from Operating Activities (in millions)']].std()\n",
    "print(\"Financial Consistency (Lower values indicate higher consistency):\")\n",
    "print(consistency)\n"
   ]
  },
  {
   "cell_type": "markdown",
   "id": "62916b77",
   "metadata": {},
   "source": [
    "Measures the variance or standard deviation of Revenue, Net Income, and Cash Flow to understand which company has the most consistent financial performance.\n",
    "\n",
    "Apple is the most consistent performer across financial metrics, indicating a mature, stable business. Tesla, while experiencing high growth, exhibits greater volatility, characteristic of a company in a rapid expansion phase."
   ]
  },
  {
   "cell_type": "markdown",
   "id": "9fcaac76",
   "metadata": {},
   "source": [
    "## Market Revenue Share (%)"
   ]
  },
  {
   "cell_type": "code",
   "execution_count": 4,
   "id": "580584da",
   "metadata": {},
   "outputs": [
    {
     "name": "stdout",
     "output_type": "stream",
     "text": [
      "     Company  Year  Market Revenue Share (%)\n",
      "8      Apple  2021                 62.242568\n",
      "7      Apple  2022                 58.500430\n",
      "6      Apple  2023                 55.390167\n",
      "2  Microsoft  2021                 28.599624\n",
      "1  Microsoft  2022                 29.414295\n",
      "0  Microsoft  2023                 30.624750\n",
      "5      Tesla  2021                  9.157808\n",
      "4      Tesla  2022                 12.085274\n",
      "3      Tesla  2023                 13.985083\n"
     ]
    }
   ],
   "source": [
    "df['Market Revenue Share (%)'] = df['Total Revenue (in millions)'] / df.groupby('Year')['Total Revenue (in millions)'].transform('sum') * 100\n",
    "print(df[['Company', 'Year', 'Market Revenue Share (%)']])"
   ]
  },
  {
   "cell_type": "markdown",
   "id": "fa8d7343",
   "metadata": {},
   "source": [
    "Apple remains the dominant player, though its share is gradually declining. Tesla is increasing its market share significantly, indicating it is capturing new market opportunities and scaling effectively."
   ]
  },
  {
   "cell_type": "markdown",
   "id": "96d053a0",
   "metadata": {},
   "source": [
    "## Profitability (%)"
   ]
  },
  {
   "cell_type": "code",
   "execution_count": 5,
   "id": "a234b438",
   "metadata": {},
   "outputs": [
    {
     "name": "stdout",
     "output_type": "stream",
     "text": [
      "     Company  Year  Profitability (%)\n",
      "8      Apple  2021          25.881793\n",
      "7      Apple  2022          25.309641\n",
      "6      Apple  2023          25.306234\n",
      "2  Microsoft  2021          36.451740\n",
      "1  Microsoft  2022          36.686337\n",
      "0  Microsoft  2023          34.146238\n",
      "5      Tesla  2021          10.486223\n",
      "4      Tesla  2022          15.451376\n",
      "3      Tesla  2023          15.473324\n"
     ]
    }
   ],
   "source": [
    "df['Profitability (%)'] = (df['Net Income (in millions)'] / df['Total Revenue (in millions)']) * 100\n",
    "print(df[['Company', 'Year', 'Profitability (%)']])"
   ]
  },
  {
   "cell_type": "markdown",
   "id": "092b8e81",
   "metadata": {},
   "source": [
    "Compares Net Income as a Percentage of Revenue to understand profitability trends. \n",
    "\n",
    "Microsoft leads in profitability, leveraging its efficient operations. Tesla is improving its margins, but Apple maintains a stable, consistent profit percentage."
   ]
  },
  {
   "cell_type": "markdown",
   "id": "ab777594",
   "metadata": {},
   "source": [
    "## Correlation "
   ]
  },
  {
   "cell_type": "code",
   "execution_count": 6,
   "id": "174beb60",
   "metadata": {},
   "outputs": [
    {
     "name": "stdout",
     "output_type": "stream",
     "text": [
      "Correlation Matrix:\n",
      "                       Revenue Growth (%)  Net Income Growth (%)  \\\n",
      "Revenue Growth (%)               1.000000               0.966275   \n",
      "Net Income Growth (%)            0.966275               1.000000   \n",
      "Asset Growth (%)                 0.814195               0.723712   \n",
      "Liability Growth (%)             0.824879               0.722572   \n",
      "\n",
      "                       Asset Growth (%)  Liability Growth (%)  \n",
      "Revenue Growth (%)             0.814195              0.824879  \n",
      "Net Income Growth (%)          0.723712              0.722572  \n",
      "Asset Growth (%)               1.000000              0.935181  \n",
      "Liability Growth (%)           0.935181              1.000000  \n"
     ]
    }
   ],
   "source": [
    "correlations = df[['Revenue Growth (%)', 'Net Income Growth (%)', 'Asset Growth (%)', 'Liability Growth (%)']].corr()\n",
    "print(\"Correlation Matrix:\")\n",
    "print(correlations)"
   ]
  },
  {
   "cell_type": "markdown",
   "id": "e4889c7a",
   "metadata": {},
   "source": [
    "Check the correlation between different metrics (e.g., Revenue Growth vs. Asset Growth) for each company."
   ]
  },
  {
   "cell_type": "markdown",
   "id": "8aa9de6f",
   "metadata": {},
   "source": [
    "## Revenue Trends Over Time"
   ]
  },
  {
   "cell_type": "code",
   "execution_count": 7,
   "id": "97bacb2c",
   "metadata": {},
   "outputs": [
    {
     "data": {
      "image/png": "[encoded data removed]",
      "text/plain": [
       "<Figure size 640x480 with 1 Axes>"
      ]
     },
     "metadata": {},
     "output_type": "display_data"
    }
   ],
   "source": [
    "import matplotlib.pyplot as plt\n",
    "\n",
    "for company in df['Company'].unique():\n",
    "    subset = df[df['Company'] == company]\n",
    "    plt.plot(subset['Year'], subset['Total Revenue (in millions)'], label=company)\n",
    "\n",
    "plt.title('Revenue Trends Over Time')\n",
    "plt.xlabel('Year')\n",
    "plt.ylabel('Total Revenue (in millions)')\n",
    "plt.legend()\n",
    "plt.show()\n"
   ]
  },
  {
   "cell_type": "markdown",
   "id": "648839e8",
   "metadata": {},
   "source": [
    "Tesla is catching up but has a long way to go before reaching the revenue scale of Apple or Microsoft.\n",
    "\n"
   ]
  },
  {
   "cell_type": "markdown",
   "id": "f332063e",
   "metadata": {},
   "source": [
    "## Debt-to-Asset Ratio"
   ]
  },
  {
   "cell_type": "code",
   "execution_count": 8,
   "id": "eda7d900",
   "metadata": {},
   "outputs": [
    {
     "data": {
      "image/png": "[encoded data removed]",
      "text/plain": [
       "<Figure size 640x480 with 1 Axes>"
      ]
     },
     "metadata": {},
     "output_type": "display_data"
    }
   ],
   "source": [
    "for company in df['Company'].unique():\n",
    "    subset = df[df['Company'] == company]\n",
    "    plt.plot(subset['Year'], subset['Debt-to-Asset Ratio'], label=company)\n",
    "\n",
    "plt.title('Debt-to-Asset Ratio Over Time')\n",
    "plt.xlabel('Year')\n",
    "plt.ylabel('Debt-to-Asset Ratio')\n",
    "plt.legend()\n",
    "plt.show()\n"
   ]
  },
  {
   "cell_type": "markdown",
   "id": "107761b0",
   "metadata": {},
   "source": [
    "Microsoft has the healthiest balance sheet in terms of debt reliance, while Tesla is rapidly improving."
   ]
  },
  {
   "cell_type": "markdown",
   "id": "c05c6493",
   "metadata": {},
   "source": [
    "## Cash Flow Efficiency"
   ]
  },
  {
   "cell_type": "code",
   "execution_count": 9,
   "id": "292a1966",
   "metadata": {},
   "outputs": [
    {
     "name": "stdout",
     "output_type": "stream",
     "text": [
      "     Company  Year  Cash Flow Efficiency\n",
      "8      Apple  2021              1.098838\n",
      "7      Apple  2022              1.223921\n",
      "6      Apple  2023              1.139677\n",
      "2  Microsoft  2021              1.252469\n",
      "1  Microsoft  2022              1.224051\n",
      "0  Microsoft  2023              1.210348\n",
      "5      Tesla  2021              2.037030\n",
      "4      Tesla  2022              1.169778\n",
      "3      Tesla  2023              0.885268\n"
     ]
    }
   ],
   "source": [
    "df['Cash Flow Efficiency'] = df['Cash Flow from Operating Activities (in millions)'] / df['Net Income (in millions)']\n",
    "print(df[['Company', 'Year', 'Cash Flow Efficiency']])\n"
   ]
  },
  {
   "cell_type": "markdown",
   "id": "eb5db7c5",
   "metadata": {},
   "source": [
    "Analyzes the relationship between Cash Flow from Operating Activities and Net Income to see how efficiently companies generate cash.\n",
    "\n",
    "Apple and Microsoft have efficient cash generation, while Tesla’s efficiency dropped, which could be due to scaling challenges."
   ]
  },
  {
   "cell_type": "markdown",
   "id": "21f91e7e",
   "metadata": {},
   "source": [
    "## Peer Comparison by Year"
   ]
  },
  {
   "cell_type": "code",
   "execution_count": 10,
   "id": "4a643635",
   "metadata": {},
   "outputs": [
    {
     "name": "stdout",
     "output_type": "stream",
     "text": [
      "Peer Comparison by Year:\n",
      "      Total Revenue (in millions)  Profitability (%)  Debt-to-Asset Ratio\n",
      "Year                                                                     \n",
      "2021                195909.333333          24.273252             0.628844\n",
      "2022                224686.666667          25.815785             0.614147\n",
      "2023                230657.666667          24.975265             0.575521\n"
     ]
    }
   ],
   "source": [
    "peer_comparison = df.groupby('Year')[['Total Revenue (in millions)', 'Profitability (%)', 'Debt-to-Asset Ratio']].mean()\n",
    "print(\"Peer Comparison by Year:\")\n",
    "print(peer_comparison)\n"
   ]
  },
  {
   "cell_type": "markdown",
   "id": "85651f59",
   "metadata": {},
   "source": [
    "Compares metrics across companies in the same year.\n",
    "\n",
    "2022 was a strong year for profitability and growth across the board, while 2023 shows signs of stabilization.\n",
    "\n"
   ]
  },
  {
   "cell_type": "markdown",
   "id": "a768da0d",
   "metadata": {},
   "source": [
    "## Revenue CAGR (Compound Annual Growth Rate) "
   ]
  },
  {
   "cell_type": "code",
   "execution_count": 11,
   "id": "f7573b66",
   "metadata": {},
   "outputs": [
    {
     "name": "stdout",
     "output_type": "stream",
     "text": [
      "Revenue CAGR:\n",
      "     Company  Revenue CAGR (%)\n",
      "0      Apple          2.359692\n",
      "1  Microsoft         12.282609\n",
      "2      Tesla         34.089000\n"
     ]
    }
   ],
   "source": [
    "def calculate_cagr(start_value, end_value, periods):\n",
    "    return ((end_value / start_value) ** (1 / periods) - 1) * 100\n",
    "\n",
    "cagr_data = []\n",
    "for company in df['Company'].unique():\n",
    "    subset = df[df['Company'] == company].sort_values('Year')\n",
    "    start_revenue = subset['Total Revenue (in millions)'].iloc[0]\n",
    "    end_revenue = subset['Total Revenue (in millions)'].iloc[-1]\n",
    "    years = len(subset) - 1\n",
    "    cagr = calculate_cagr(start_revenue, end_revenue, years)\n",
    "    cagr_data.append({'Company': company, 'Revenue CAGR (%)': cagr})\n",
    "\n",
    "cagr_df = pd.DataFrame(cagr_data)\n",
    "print(\"Revenue CAGR:\")\n",
    "print(cagr_df)\n"
   ]
  },
  {
   "cell_type": "markdown",
   "id": "d8a0d1b1",
   "metadata": {},
   "source": [
    "Calculates the CAGR (Compound Annual Growth Rate) for Revenue and Net Income over the period for each company.\n",
    "\n",
    "Tesla is in a high-growth phase, while Microsoft shows consistent expansion. Apple demonstrates slower growth due to its position in a more saturated market."
   ]
  },
  {
   "cell_type": "markdown",
   "id": "2ac35119",
   "metadata": {},
   "source": [
    "## Financial Health Index (FHI) "
   ]
  },
  {
   "cell_type": "code",
   "execution_count": 12,
   "id": "8ea97bff",
   "metadata": {},
   "outputs": [
    {
     "name": "stdout",
     "output_type": "stream",
     "text": [
      "     Company  Year  Financial Health Index\n",
      "8      Apple  2021                     NaN\n",
      "7      Apple  2022               -3.885700\n",
      "6      Apple  2023               -7.472506\n",
      "2  Microsoft  2021                     NaN\n",
      "1  Microsoft  2022               10.986554\n",
      "0  Microsoft  2023                6.422715\n",
      "5      Tesla  2021                     NaN\n",
      "4      Tesla  2022               17.869891\n",
      "3      Tesla  2023                5.639568\n"
     ]
    }
   ],
   "source": [
    "df['Financial Health Index'] = (\n",
    "    0.4 * df['Revenue Growth (%)'] + \n",
    "    0.4 * df['Profitability (%)'] - \n",
    "    0.2 * df['Debt-to-Asset Ratio'] * 100\n",
    ")\n",
    "print(df[['Company', 'Year', 'Financial Health Index']])\n"
   ]
  },
  {
   "cell_type": "markdown",
   "id": "f64afdf7",
   "metadata": {},
   "source": [
    "Creates a composite index for financial health using weighted averages of key metrics like Revenue Growth, Profitability, and Debt-to-Asset Ratio.\n",
    "\n",
    "Microsoft consistently performs well in financial health, with balanced growth and low debt. Tesla shows strong potential but is highly dependent on sustaining its rapid growth. Apple faces challenges with declining growth and higher debt reliance"
   ]
  },
  {
   "cell_type": "markdown",
   "id": "bdd4fafd",
   "metadata": {},
   "source": [
    "## Analysis \n",
    "\n",
    "\n",
    "### 1. Apple\n",
    "•\tApple is maintaining stable financials, with modest growth in revenue, net income, and liabilities. Its conservative liability management and stable debt-to-asset ratio reflect a focus on sustainability rather than aggressive expansion. However, the company faced minor challenges in maintaining growth, evidenced by slight declines in revenue and net income in 2023 compared to 2022. These challenges may stem from market saturation, increased competition, and profitability pressures.\n",
    "### 2. Microsoft\n",
    "•\tMicrosoft is steadily growing its assets and revenue. Its low debt-to-asset ratio and consistent growth in liabilities highlight a well-balanced financial strategy. The robust asset growth demonstrates significant investments in expansion opportunities, while the proportional increase in liabilities showcases prudent financial management. Microsoft stands out as the leader in profitability and maintains the lowest debt-to-asset ratio, reflecting a strong business model and stable financial health. Its industry-leading profitability and efficiency further solidify its position.\n",
    "### 3. Tesla\n",
    "•\tTesla exhibits the highest volatility in growth metrics, reflecting its dynamic high-growth business model. The company is aggressively expanding its assets while managing liabilities proportionally, signaling improving financial discipline. However, Tesla’s cash flow efficiency slightly declined in 2023, suggesting potential challenges in maintaining operational efficiency during rapid scaling. While Tesla has demonstrated strong profitability and market share gains, its financial stability heavily relies on its ability to sustain this ambitious growth trajectory.\n",
    "\n",
    "\n"
   ]
  },
  {
   "cell_type": "code",
   "execution_count": 13,
   "id": "ccefb367",
   "metadata": {},
   "outputs": [
    {
     "name": "stdout",
     "output_type": "stream",
     "text": [
      "Processed data saved to financial_data_processed.csv\n"
     ]
    }
   ],
   "source": [
    "# Save the cleaned and processed data to a CSV file\n",
    "output_path = \"financial_data_processed.csv\"\n",
    "df.to_csv(output_path, index=False)\n",
    "print(f\"Processed data saved to {output_path}\")\n"
   ]
  }
 ],
 "metadata": {
  "kernelspec": {
   "display_name": "Python 3",
   "language": "python",
   "name": "python3"
  },
  "language_info": {
   "codemirror_mode": {
    "name": "ipython",
    "version": 3
   },
   "file_extension": ".py",
   "mimetype": "text/x-python",
   "name": "python",
   "nbconvert_exporter": "python",
   "pygments_lexer": "ipython3",
   "version": "3.12.3"
  }
 },
 "nbformat": 4,
 "nbformat_minor": 5
}
